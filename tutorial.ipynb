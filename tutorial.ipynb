{
 "cells": [
  {
   "cell_type": "code",
   "execution_count": 1,
   "id": "41f1bb47-4baf-4635-81eb-2131cc6fddd6",
   "metadata": {},
   "outputs": [],
   "source": [
    "from pathlib import Path\n",
    "import numpy as np\n",
    "import pandas as pd\n",
    "from matplotlib import pyplot as plt"
   ]
  },
  {
   "cell_type": "code",
   "execution_count": 2,
   "id": "c5402a62-0fc7-4a50-9c48-52c4b1e24832",
   "metadata": {},
   "outputs": [],
   "source": [
    "plt.rcParams[\"figure.dpi\"] = 150"
   ]
  },
  {
   "cell_type": "markdown",
   "id": "8ef1f4be-28fe-40ae-bf28-004e55826c21",
   "metadata": {},
   "source": [
    "# Getting started"
   ]
  },
  {
   "cell_type": "markdown",
   "id": "4ed0f934-852f-489b-88e9-345a7c5793a3",
   "metadata": {},
   "source": [
    "Set the path to the data folder:"
   ]
  },
  {
   "cell_type": "code",
   "execution_count": 3,
   "id": "ffeec7a2-74e1-4312-ae2d-314f1272667b",
   "metadata": {},
   "outputs": [],
   "source": [
    "data_path = Path(r\"D:\\DATA\\Mearns2020\")"
   ]
  },
  {
   "cell_type": "markdown",
   "id": "a855557b-5fe8-4369-bdba-b43c27641fe5",
   "metadata": {},
   "source": [
    "Import metadata"
   ]
  },
  {
   "cell_type": "code",
   "execution_count": 4,
   "id": "08bdd010-3d62-4657-b825-7346c245d0d7",
   "metadata": {},
   "outputs": [],
   "source": [
    "md = pd.read_csv(data_path.joinpath(\"mapped_bouts.csv\"), index_col=\"bout_index\", dtype={\"ID\": str, \"video_code\": str})"
   ]
  },
  {
   "cell_type": "code",
   "execution_count": 5,
   "id": "04782e47-72f7-40cd-9b12-eae12534ea88",
   "metadata": {},
   "outputs": [
    {
     "data": {
      "text/html": [
       "<div>\n",
       "<style scoped>\n",
       "    .dataframe tbody tr th:only-of-type {\n",
       "        vertical-align: middle;\n",
       "    }\n",
       "\n",
       "    .dataframe tbody tr th {\n",
       "        vertical-align: top;\n",
       "    }\n",
       "\n",
       "    .dataframe thead th {\n",
       "        text-align: right;\n",
       "    }\n",
       "</style>\n",
       "<table border=\"1\" class=\"dataframe\">\n",
       "  <thead>\n",
       "    <tr style=\"text-align: right;\">\n",
       "      <th></th>\n",
       "      <th>transition_index</th>\n",
       "      <th>ID</th>\n",
       "      <th>video_code</th>\n",
       "      <th>start</th>\n",
       "      <th>end</th>\n",
       "      <th>ROI</th>\n",
       "      <th>state</th>\n",
       "      <th>module</th>\n",
       "      <th>phase</th>\n",
       "    </tr>\n",
       "    <tr>\n",
       "      <th>bout_index</th>\n",
       "      <th></th>\n",
       "      <th></th>\n",
       "      <th></th>\n",
       "      <th></th>\n",
       "      <th></th>\n",
       "      <th></th>\n",
       "      <th></th>\n",
       "      <th></th>\n",
       "      <th></th>\n",
       "    </tr>\n",
       "  </thead>\n",
       "  <tbody>\n",
       "    <tr>\n",
       "      <th>0</th>\n",
       "      <td>0</td>\n",
       "      <td>2017081001</td>\n",
       "      <td>2017081001171128</td>\n",
       "      <td>461</td>\n",
       "      <td>542</td>\n",
       "      <td>True</td>\n",
       "      <td>1251</td>\n",
       "      <td>2</td>\n",
       "      <td>0</td>\n",
       "    </tr>\n",
       "    <tr>\n",
       "      <th>1</th>\n",
       "      <td>1</td>\n",
       "      <td>2017081001</td>\n",
       "      <td>2017081001171128</td>\n",
       "      <td>858</td>\n",
       "      <td>952</td>\n",
       "      <td>True</td>\n",
       "      <td>2</td>\n",
       "      <td>2</td>\n",
       "      <td>0</td>\n",
       "    </tr>\n",
       "    <tr>\n",
       "      <th>2</th>\n",
       "      <td>2</td>\n",
       "      <td>2017081001</td>\n",
       "      <td>2017081001171128</td>\n",
       "      <td>1418</td>\n",
       "      <td>1502</td>\n",
       "      <td>True</td>\n",
       "      <td>1581</td>\n",
       "      <td>3</td>\n",
       "      <td>0</td>\n",
       "    </tr>\n",
       "    <tr>\n",
       "      <th>3</th>\n",
       "      <td>3</td>\n",
       "      <td>2017081001</td>\n",
       "      <td>2017081001171128</td>\n",
       "      <td>1851</td>\n",
       "      <td>1935</td>\n",
       "      <td>True</td>\n",
       "      <td>11</td>\n",
       "      <td>3</td>\n",
       "      <td>0</td>\n",
       "    </tr>\n",
       "    <tr>\n",
       "      <th>5</th>\n",
       "      <td>5</td>\n",
       "      <td>2017081001</td>\n",
       "      <td>2017081001171128</td>\n",
       "      <td>3240</td>\n",
       "      <td>3315</td>\n",
       "      <td>True</td>\n",
       "      <td>1565</td>\n",
       "      <td>4</td>\n",
       "      <td>0</td>\n",
       "    </tr>\n",
       "    <tr>\n",
       "      <th>...</th>\n",
       "      <td>...</td>\n",
       "      <td>...</td>\n",
       "      <td>...</td>\n",
       "      <td>...</td>\n",
       "      <td>...</td>\n",
       "      <td>...</td>\n",
       "      <td>...</td>\n",
       "      <td>...</td>\n",
       "      <td>...</td>\n",
       "    </tr>\n",
       "    <tr>\n",
       "      <th>97038</th>\n",
       "      <td>94188</td>\n",
       "      <td>2018040322</td>\n",
       "      <td>2018040322202929</td>\n",
       "      <td>28882</td>\n",
       "      <td>28963</td>\n",
       "      <td>True</td>\n",
       "      <td>1149</td>\n",
       "      <td>4</td>\n",
       "      <td>0</td>\n",
       "    </tr>\n",
       "    <tr>\n",
       "      <th>97039</th>\n",
       "      <td>94189</td>\n",
       "      <td>2018040322</td>\n",
       "      <td>2018040322202929</td>\n",
       "      <td>29247</td>\n",
       "      <td>29326</td>\n",
       "      <td>True</td>\n",
       "      <td>594</td>\n",
       "      <td>0</td>\n",
       "      <td>0</td>\n",
       "    </tr>\n",
       "    <tr>\n",
       "      <th>97040</th>\n",
       "      <td>94190</td>\n",
       "      <td>2018040322</td>\n",
       "      <td>2018040322202929</td>\n",
       "      <td>29596</td>\n",
       "      <td>29678</td>\n",
       "      <td>True</td>\n",
       "      <td>1414</td>\n",
       "      <td>5</td>\n",
       "      <td>1</td>\n",
       "    </tr>\n",
       "    <tr>\n",
       "      <th>97042</th>\n",
       "      <td>94191</td>\n",
       "      <td>2018040322</td>\n",
       "      <td>2018040322202929</td>\n",
       "      <td>29821</td>\n",
       "      <td>29877</td>\n",
       "      <td>True</td>\n",
       "      <td>154</td>\n",
       "      <td>1</td>\n",
       "      <td>2</td>\n",
       "    </tr>\n",
       "    <tr>\n",
       "      <th>97043</th>\n",
       "      <td>94192</td>\n",
       "      <td>2018040322</td>\n",
       "      <td>2018040322202929</td>\n",
       "      <td>29926</td>\n",
       "      <td>29990</td>\n",
       "      <td>True</td>\n",
       "      <td>621</td>\n",
       "      <td>0</td>\n",
       "      <td>2</td>\n",
       "    </tr>\n",
       "  </tbody>\n",
       "</table>\n",
       "<p>57644 rows × 9 columns</p>\n",
       "</div>"
      ],
      "text/plain": [
       "            transition_index          ID        video_code  start    end  \\\n",
       "bout_index                                                                 \n",
       "0                          0  2017081001  2017081001171128    461    542   \n",
       "1                          1  2017081001  2017081001171128    858    952   \n",
       "2                          2  2017081001  2017081001171128   1418   1502   \n",
       "3                          3  2017081001  2017081001171128   1851   1935   \n",
       "5                          5  2017081001  2017081001171128   3240   3315   \n",
       "...                      ...         ...               ...    ...    ...   \n",
       "97038                  94188  2018040322  2018040322202929  28882  28963   \n",
       "97039                  94189  2018040322  2018040322202929  29247  29326   \n",
       "97040                  94190  2018040322  2018040322202929  29596  29678   \n",
       "97042                  94191  2018040322  2018040322202929  29821  29877   \n",
       "97043                  94192  2018040322  2018040322202929  29926  29990   \n",
       "\n",
       "             ROI  state  module  phase  \n",
       "bout_index                              \n",
       "0           True   1251       2      0  \n",
       "1           True      2       2      0  \n",
       "2           True   1581       3      0  \n",
       "3           True     11       3      0  \n",
       "5           True   1565       4      0  \n",
       "...          ...    ...     ...    ...  \n",
       "97038       True   1149       4      0  \n",
       "97039       True    594       0      0  \n",
       "97040       True   1414       5      1  \n",
       "97042       True    154       1      2  \n",
       "97043       True    621       0      2  \n",
       "\n",
       "[57644 rows x 9 columns]"
      ]
     },
     "execution_count": 5,
     "metadata": {},
     "output_type": "execute_result"
    }
   ],
   "source": [
    "md"
   ]
  },
  {
   "cell_type": "markdown",
   "id": "14b609c4-d095-4f88-a2ac-500589fe43e4",
   "metadata": {},
   "source": [
    "# Import kinematic data for a single bout"
   ]
  },
  {
   "cell_type": "code",
   "execution_count": 6,
   "id": "a353f23e-01d8-4a52-9d3b-be4c2932c4e3",
   "metadata": {},
   "outputs": [
    {
     "data": {
      "text/plain": [
       "transition_index                   0\n",
       "ID                        2017081001\n",
       "video_code          2017081001171128\n",
       "start                            461\n",
       "end                              542\n",
       "ROI                             True\n",
       "state                           1251\n",
       "module                             2\n",
       "phase                              0\n",
       "Name: 0, dtype: object"
      ]
     },
     "execution_count": 6,
     "metadata": {},
     "output_type": "execute_result"
    }
   ],
   "source": [
    "bout_md = md.loc[0]\n",
    "bout_md"
   ]
  },
  {
   "cell_type": "code",
   "execution_count": 7,
   "id": "e26961aa-7b88-4e95-b235-70584eb9bde0",
   "metadata": {},
   "outputs": [],
   "source": [
    "trial_path = data_path.joinpath(\"kinematics\", bout_md[\"ID\"], bout_md[\"video_code\"] + \".csv\")\n",
    "trial_kinematics = pd.read_csv(trial_path)"
   ]
  },
  {
   "cell_type": "code",
   "execution_count": 8,
   "id": "05ea81d7-905e-44b1-999d-3d5a5919917c",
   "metadata": {},
   "outputs": [
    {
     "data": {
      "text/html": [
       "<div>\n",
       "<style scoped>\n",
       "    .dataframe tbody tr th:only-of-type {\n",
       "        vertical-align: middle;\n",
       "    }\n",
       "\n",
       "    .dataframe tbody tr th {\n",
       "        vertical-align: top;\n",
       "    }\n",
       "\n",
       "    .dataframe thead th {\n",
       "        text-align: right;\n",
       "    }\n",
       "</style>\n",
       "<table border=\"1\" class=\"dataframe\">\n",
       "  <thead>\n",
       "    <tr style=\"text-align: right;\">\n",
       "      <th></th>\n",
       "      <th>k0</th>\n",
       "      <th>k1</th>\n",
       "      <th>k2</th>\n",
       "      <th>k3</th>\n",
       "      <th>k4</th>\n",
       "      <th>k5</th>\n",
       "      <th>k6</th>\n",
       "      <th>k7</th>\n",
       "      <th>k8</th>\n",
       "      <th>k9</th>\n",
       "      <th>...</th>\n",
       "      <th>k47</th>\n",
       "      <th>k48</th>\n",
       "      <th>k49</th>\n",
       "      <th>tip</th>\n",
       "      <th>length</th>\n",
       "      <th>left</th>\n",
       "      <th>right</th>\n",
       "      <th>speed</th>\n",
       "      <th>angular_velocity</th>\n",
       "      <th>tracked</th>\n",
       "    </tr>\n",
       "  </thead>\n",
       "  <tbody>\n",
       "    <tr>\n",
       "      <th>0</th>\n",
       "      <td>-0.010209</td>\n",
       "      <td>-0.057768</td>\n",
       "      <td>-0.025698</td>\n",
       "      <td>0.076131</td>\n",
       "      <td>0.100434</td>\n",
       "      <td>0.053714</td>\n",
       "      <td>0.043783</td>\n",
       "      <td>0.044619</td>\n",
       "      <td>0.025993</td>\n",
       "      <td>-0.008202</td>\n",
       "      <td>...</td>\n",
       "      <td>0.003969</td>\n",
       "      <td>0.022786</td>\n",
       "      <td>0.056237</td>\n",
       "      <td>0.011602</td>\n",
       "      <td>187.503035</td>\n",
       "      <td>-0.297990</td>\n",
       "      <td>0.331401</td>\n",
       "      <td>123.712637</td>\n",
       "      <td>0.170362</td>\n",
       "      <td>True</td>\n",
       "    </tr>\n",
       "    <tr>\n",
       "      <th>1</th>\n",
       "      <td>-0.010379</td>\n",
       "      <td>-0.057938</td>\n",
       "      <td>-0.025869</td>\n",
       "      <td>0.076327</td>\n",
       "      <td>0.104450</td>\n",
       "      <td>0.068804</td>\n",
       "      <td>0.056673</td>\n",
       "      <td>0.036646</td>\n",
       "      <td>0.029275</td>\n",
       "      <td>0.005594</td>\n",
       "      <td>...</td>\n",
       "      <td>0.003798</td>\n",
       "      <td>0.022615</td>\n",
       "      <td>0.056067</td>\n",
       "      <td>0.010508</td>\n",
       "      <td>187.508730</td>\n",
       "      <td>-0.298194</td>\n",
       "      <td>0.343491</td>\n",
       "      <td>0.000000</td>\n",
       "      <td>0.000000</td>\n",
       "      <td>True</td>\n",
       "    </tr>\n",
       "    <tr>\n",
       "      <th>2</th>\n",
       "      <td>-0.010379</td>\n",
       "      <td>-0.057938</td>\n",
       "      <td>-0.025869</td>\n",
       "      <td>0.076327</td>\n",
       "      <td>0.104450</td>\n",
       "      <td>0.068804</td>\n",
       "      <td>0.056673</td>\n",
       "      <td>0.036646</td>\n",
       "      <td>0.029275</td>\n",
       "      <td>0.005594</td>\n",
       "      <td>...</td>\n",
       "      <td>0.003798</td>\n",
       "      <td>0.022615</td>\n",
       "      <td>0.056067</td>\n",
       "      <td>0.010508</td>\n",
       "      <td>187.508730</td>\n",
       "      <td>-0.298399</td>\n",
       "      <td>0.355581</td>\n",
       "      <td>148.056524</td>\n",
       "      <td>0.181867</td>\n",
       "      <td>True</td>\n",
       "    </tr>\n",
       "    <tr>\n",
       "      <th>3</th>\n",
       "      <td>-0.010379</td>\n",
       "      <td>-0.014517</td>\n",
       "      <td>0.028314</td>\n",
       "      <td>0.076327</td>\n",
       "      <td>0.100368</td>\n",
       "      <td>0.068804</td>\n",
       "      <td>0.060512</td>\n",
       "      <td>0.036646</td>\n",
       "      <td>0.029275</td>\n",
       "      <td>-0.002281</td>\n",
       "      <td>...</td>\n",
       "      <td>0.003142</td>\n",
       "      <td>0.022252</td>\n",
       "      <td>0.055703</td>\n",
       "      <td>0.009653</td>\n",
       "      <td>187.437354</td>\n",
       "      <td>-0.298399</td>\n",
       "      <td>0.355581</td>\n",
       "      <td>231.597192</td>\n",
       "      <td>0.291558</td>\n",
       "      <td>True</td>\n",
       "    </tr>\n",
       "    <tr>\n",
       "      <th>4</th>\n",
       "      <td>0.003573</td>\n",
       "      <td>-0.014517</td>\n",
       "      <td>0.028314</td>\n",
       "      <td>0.077946</td>\n",
       "      <td>0.100368</td>\n",
       "      <td>0.098623</td>\n",
       "      <td>0.068674</td>\n",
       "      <td>0.033743</td>\n",
       "      <td>-0.007178</td>\n",
       "      <td>-0.035881</td>\n",
       "      <td>...</td>\n",
       "      <td>-0.003000</td>\n",
       "      <td>-0.003966</td>\n",
       "      <td>-0.029973</td>\n",
       "      <td>-0.001637</td>\n",
       "      <td>187.412120</td>\n",
       "      <td>-0.298399</td>\n",
       "      <td>0.355581</td>\n",
       "      <td>0.000000</td>\n",
       "      <td>0.000000</td>\n",
       "      <td>True</td>\n",
       "    </tr>\n",
       "    <tr>\n",
       "      <th>...</th>\n",
       "      <td>...</td>\n",
       "      <td>...</td>\n",
       "      <td>...</td>\n",
       "      <td>...</td>\n",
       "      <td>...</td>\n",
       "      <td>...</td>\n",
       "      <td>...</td>\n",
       "      <td>...</td>\n",
       "      <td>...</td>\n",
       "      <td>...</td>\n",
       "      <td>...</td>\n",
       "      <td>...</td>\n",
       "      <td>...</td>\n",
       "      <td>...</td>\n",
       "      <td>...</td>\n",
       "      <td>...</td>\n",
       "      <td>...</td>\n",
       "      <td>...</td>\n",
       "      <td>...</td>\n",
       "      <td>...</td>\n",
       "      <td>...</td>\n",
       "    </tr>\n",
       "    <tr>\n",
       "      <th>30017</th>\n",
       "      <td>-0.117267</td>\n",
       "      <td>-0.037443</td>\n",
       "      <td>0.014733</td>\n",
       "      <td>0.027570</td>\n",
       "      <td>0.028713</td>\n",
       "      <td>0.028713</td>\n",
       "      <td>0.028713</td>\n",
       "      <td>0.028713</td>\n",
       "      <td>0.028713</td>\n",
       "      <td>0.028713</td>\n",
       "      <td>...</td>\n",
       "      <td>0.000758</td>\n",
       "      <td>-0.038651</td>\n",
       "      <td>-0.117267</td>\n",
       "      <td>-0.046890</td>\n",
       "      <td>191.545557</td>\n",
       "      <td>-0.427869</td>\n",
       "      <td>0.126229</td>\n",
       "      <td>41.952115</td>\n",
       "      <td>0.000000</td>\n",
       "      <td>True</td>\n",
       "    </tr>\n",
       "    <tr>\n",
       "      <th>30018</th>\n",
       "      <td>-0.117267</td>\n",
       "      <td>-0.037443</td>\n",
       "      <td>0.014733</td>\n",
       "      <td>0.028558</td>\n",
       "      <td>0.029695</td>\n",
       "      <td>0.029695</td>\n",
       "      <td>0.029509</td>\n",
       "      <td>0.028713</td>\n",
       "      <td>0.028713</td>\n",
       "      <td>0.028713</td>\n",
       "      <td>...</td>\n",
       "      <td>0.007281</td>\n",
       "      <td>-0.037705</td>\n",
       "      <td>-0.116529</td>\n",
       "      <td>-0.046410</td>\n",
       "      <td>192.533288</td>\n",
       "      <td>-0.427869</td>\n",
       "      <td>0.125628</td>\n",
       "      <td>45.586224</td>\n",
       "      <td>-0.491112</td>\n",
       "      <td>True</td>\n",
       "    </tr>\n",
       "    <tr>\n",
       "      <th>30019</th>\n",
       "      <td>-0.115546</td>\n",
       "      <td>-0.036122</td>\n",
       "      <td>0.015787</td>\n",
       "      <td>0.028558</td>\n",
       "      <td>0.029695</td>\n",
       "      <td>0.029695</td>\n",
       "      <td>0.029695</td>\n",
       "      <td>0.029695</td>\n",
       "      <td>0.029695</td>\n",
       "      <td>0.029695</td>\n",
       "      <td>...</td>\n",
       "      <td>0.014645</td>\n",
       "      <td>-0.036122</td>\n",
       "      <td>-0.115547</td>\n",
       "      <td>-0.045375</td>\n",
       "      <td>192.578164</td>\n",
       "      <td>-0.428223</td>\n",
       "      <td>0.125567</td>\n",
       "      <td>0.000000</td>\n",
       "      <td>0.000000</td>\n",
       "      <td>True</td>\n",
       "    </tr>\n",
       "    <tr>\n",
       "      <th>30020</th>\n",
       "      <td>-0.115546</td>\n",
       "      <td>-0.036122</td>\n",
       "      <td>0.015787</td>\n",
       "      <td>0.028558</td>\n",
       "      <td>0.029695</td>\n",
       "      <td>0.029695</td>\n",
       "      <td>0.029695</td>\n",
       "      <td>0.029695</td>\n",
       "      <td>0.029695</td>\n",
       "      <td>0.029695</td>\n",
       "      <td>...</td>\n",
       "      <td>0.014645</td>\n",
       "      <td>-0.036122</td>\n",
       "      <td>-0.115547</td>\n",
       "      <td>-0.045375</td>\n",
       "      <td>192.514814</td>\n",
       "      <td>-0.428576</td>\n",
       "      <td>0.125506</td>\n",
       "      <td>54.526294</td>\n",
       "      <td>-0.013029</td>\n",
       "      <td>True</td>\n",
       "    </tr>\n",
       "    <tr>\n",
       "      <th>30021</th>\n",
       "      <td>-0.115533</td>\n",
       "      <td>-0.036109</td>\n",
       "      <td>0.015800</td>\n",
       "      <td>0.028571</td>\n",
       "      <td>0.029708</td>\n",
       "      <td>0.029708</td>\n",
       "      <td>0.029708</td>\n",
       "      <td>0.029708</td>\n",
       "      <td>0.029708</td>\n",
       "      <td>0.029708</td>\n",
       "      <td>...</td>\n",
       "      <td>0.014658</td>\n",
       "      <td>-0.036109</td>\n",
       "      <td>-0.115534</td>\n",
       "      <td>-0.045224</td>\n",
       "      <td>192.508095</td>\n",
       "      <td>-0.431971</td>\n",
       "      <td>0.125506</td>\n",
       "      <td>NaN</td>\n",
       "      <td>NaN</td>\n",
       "      <td>True</td>\n",
       "    </tr>\n",
       "  </tbody>\n",
       "</table>\n",
       "<p>30022 rows × 57 columns</p>\n",
       "</div>"
      ],
      "text/plain": [
       "             k0        k1        k2        k3        k4        k5        k6  \\\n",
       "0     -0.010209 -0.057768 -0.025698  0.076131  0.100434  0.053714  0.043783   \n",
       "1     -0.010379 -0.057938 -0.025869  0.076327  0.104450  0.068804  0.056673   \n",
       "2     -0.010379 -0.057938 -0.025869  0.076327  0.104450  0.068804  0.056673   \n",
       "3     -0.010379 -0.014517  0.028314  0.076327  0.100368  0.068804  0.060512   \n",
       "4      0.003573 -0.014517  0.028314  0.077946  0.100368  0.098623  0.068674   \n",
       "...         ...       ...       ...       ...       ...       ...       ...   \n",
       "30017 -0.117267 -0.037443  0.014733  0.027570  0.028713  0.028713  0.028713   \n",
       "30018 -0.117267 -0.037443  0.014733  0.028558  0.029695  0.029695  0.029509   \n",
       "30019 -0.115546 -0.036122  0.015787  0.028558  0.029695  0.029695  0.029695   \n",
       "30020 -0.115546 -0.036122  0.015787  0.028558  0.029695  0.029695  0.029695   \n",
       "30021 -0.115533 -0.036109  0.015800  0.028571  0.029708  0.029708  0.029708   \n",
       "\n",
       "             k7        k8        k9  ...       k47       k48       k49  \\\n",
       "0      0.044619  0.025993 -0.008202  ...  0.003969  0.022786  0.056237   \n",
       "1      0.036646  0.029275  0.005594  ...  0.003798  0.022615  0.056067   \n",
       "2      0.036646  0.029275  0.005594  ...  0.003798  0.022615  0.056067   \n",
       "3      0.036646  0.029275 -0.002281  ...  0.003142  0.022252  0.055703   \n",
       "4      0.033743 -0.007178 -0.035881  ... -0.003000 -0.003966 -0.029973   \n",
       "...         ...       ...       ...  ...       ...       ...       ...   \n",
       "30017  0.028713  0.028713  0.028713  ...  0.000758 -0.038651 -0.117267   \n",
       "30018  0.028713  0.028713  0.028713  ...  0.007281 -0.037705 -0.116529   \n",
       "30019  0.029695  0.029695  0.029695  ...  0.014645 -0.036122 -0.115547   \n",
       "30020  0.029695  0.029695  0.029695  ...  0.014645 -0.036122 -0.115547   \n",
       "30021  0.029708  0.029708  0.029708  ...  0.014658 -0.036109 -0.115534   \n",
       "\n",
       "            tip      length      left     right       speed  angular_velocity  \\\n",
       "0      0.011602  187.503035 -0.297990  0.331401  123.712637          0.170362   \n",
       "1      0.010508  187.508730 -0.298194  0.343491    0.000000          0.000000   \n",
       "2      0.010508  187.508730 -0.298399  0.355581  148.056524          0.181867   \n",
       "3      0.009653  187.437354 -0.298399  0.355581  231.597192          0.291558   \n",
       "4     -0.001637  187.412120 -0.298399  0.355581    0.000000          0.000000   \n",
       "...         ...         ...       ...       ...         ...               ...   \n",
       "30017 -0.046890  191.545557 -0.427869  0.126229   41.952115          0.000000   \n",
       "30018 -0.046410  192.533288 -0.427869  0.125628   45.586224         -0.491112   \n",
       "30019 -0.045375  192.578164 -0.428223  0.125567    0.000000          0.000000   \n",
       "30020 -0.045375  192.514814 -0.428576  0.125506   54.526294         -0.013029   \n",
       "30021 -0.045224  192.508095 -0.431971  0.125506         NaN               NaN   \n",
       "\n",
       "       tracked  \n",
       "0         True  \n",
       "1         True  \n",
       "2         True  \n",
       "3         True  \n",
       "4         True  \n",
       "...        ...  \n",
       "30017     True  \n",
       "30018     True  \n",
       "30019     True  \n",
       "30020     True  \n",
       "30021     True  \n",
       "\n",
       "[30022 rows x 57 columns]"
      ]
     },
     "execution_count": 8,
     "metadata": {},
     "output_type": "execute_result"
    }
   ],
   "source": [
    "trial_kinematics"
   ]
  },
  {
   "cell_type": "code",
   "execution_count": 9,
   "id": "9072f20b-782f-42c3-95a0-4475b3c15521",
   "metadata": {},
   "outputs": [
    {
     "data": {
      "text/plain": [
       "(82, 50)"
      ]
     },
     "execution_count": 9,
     "metadata": {},
     "output_type": "execute_result"
    }
   ],
   "source": [
    "bout = trial_kinematics.loc[bout_md[\"start\"]:bout_md[\"end\"], \"k0\":\"k49\"]\n",
    "bout_array = bout.values  # only take the values (we don't need columns anymore)\n",
    "bout_array.shape"
   ]
  },
  {
   "cell_type": "code",
   "execution_count": 10,
   "id": "a90c1c9b-fc5c-41af-89e9-ea679dd3c95b",
   "metadata": {},
   "outputs": [
    {
     "data": {
      "text/plain": [
       "<matplotlib.image.AxesImage at 0x1e197c0a850>"
      ]
     },
     "execution_count": 10,
     "metadata": {},
     "output_type": "execute_result"
    },
    {
     "data": {
      "image/png": "[encoded data removed]",
      "text/plain": [
       "<Figure size 432x288 with 1 Axes>"
      ]
     },
     "metadata": {
      "needs_background": "light"
     },
     "output_type": "display_data"
    }
   ],
   "source": [
    "plt.imshow(bout_array.T, vmin=-np.pi, vmax=np.pi, cmap=\"bwr\")"
   ]
  },
  {
   "cell_type": "markdown",
   "id": "773ff8ac-5cac-49ec-a886-f51e82ae4477",
   "metadata": {},
   "source": [
    "# Import all bouts"
   ]
  },
  {
   "cell_type": "markdown",
   "id": "738ab750-6e9f-4dac-8a99-859c97c8f777",
   "metadata": {},
   "source": [
    "To import all bouts, we use the `BoutData` class. To speed things up, lets just import the precomputed exemplar bouts."
   ]
  },
  {
   "cell_type": "markdown",
   "id": "5e17b4b1-c380-4722-a7d6-65a38a1f258a",
   "metadata": {},
   "source": [
    "**NOTE:** In the old version of the analysis we are using here, the name of the trial is given the column name \"video_code\". In the new version, this is instead just called the \"code\"."
   ]
  },
  {
   "cell_type": "code",
   "execution_count": 11,
   "id": "89ad12da-91e4-4740-b16f-49a0bd864ac8",
   "metadata": {},
   "outputs": [],
   "source": [
    "from behavior_analysis import BoutData"
   ]
  },
  {
   "cell_type": "code",
   "execution_count": 12,
   "id": "a95aeed7-de00-4077-a096-f9da348b2890",
   "metadata": {},
   "outputs": [
    {
     "data": {
      "text/html": [
       "<div>\n",
       "<style scoped>\n",
       "    .dataframe tbody tr th:only-of-type {\n",
       "        vertical-align: middle;\n",
       "    }\n",
       "\n",
       "    .dataframe tbody tr th {\n",
       "        vertical-align: top;\n",
       "    }\n",
       "\n",
       "    .dataframe thead th {\n",
       "        text-align: right;\n",
       "    }\n",
       "</style>\n",
       "<table border=\"1\" class=\"dataframe\">\n",
       "  <thead>\n",
       "    <tr style=\"text-align: right;\">\n",
       "      <th></th>\n",
       "      <th>ID</th>\n",
       "      <th>video_code</th>\n",
       "      <th>start</th>\n",
       "      <th>end</th>\n",
       "      <th>cluster</th>\n",
       "      <th>clean</th>\n",
       "      <th>module</th>\n",
       "    </tr>\n",
       "    <tr>\n",
       "      <th>bout_index</th>\n",
       "      <th></th>\n",
       "      <th></th>\n",
       "      <th></th>\n",
       "      <th></th>\n",
       "      <th></th>\n",
       "      <th></th>\n",
       "      <th></th>\n",
       "    </tr>\n",
       "  </thead>\n",
       "  <tbody>\n",
       "    <tr>\n",
       "      <th>22</th>\n",
       "      <td>2017081001</td>\n",
       "      <td>2017081001171128</td>\n",
       "      <td>12244</td>\n",
       "      <td>12325</td>\n",
       "      <td>0</td>\n",
       "      <td>True</td>\n",
       "      <td>3</td>\n",
       "    </tr>\n",
       "    <tr>\n",
       "      <th>33</th>\n",
       "      <td>2017081001</td>\n",
       "      <td>2017081001171128</td>\n",
       "      <td>17304</td>\n",
       "      <td>17395</td>\n",
       "      <td>1</td>\n",
       "      <td>True</td>\n",
       "      <td>2</td>\n",
       "    </tr>\n",
       "    <tr>\n",
       "      <th>40</th>\n",
       "      <td>2017081001</td>\n",
       "      <td>2017081001171128</td>\n",
       "      <td>20294</td>\n",
       "      <td>20387</td>\n",
       "      <td>2</td>\n",
       "      <td>True</td>\n",
       "      <td>2</td>\n",
       "    </tr>\n",
       "    <tr>\n",
       "      <th>126</th>\n",
       "      <td>2017081001</td>\n",
       "      <td>2017081001171228</td>\n",
       "      <td>21398</td>\n",
       "      <td>21486</td>\n",
       "      <td>4</td>\n",
       "      <td>True</td>\n",
       "      <td>2</td>\n",
       "    </tr>\n",
       "    <tr>\n",
       "      <th>221</th>\n",
       "      <td>2017081001</td>\n",
       "      <td>2017081001171329</td>\n",
       "      <td>24491</td>\n",
       "      <td>24575</td>\n",
       "      <td>5</td>\n",
       "      <td>True</td>\n",
       "      <td>2</td>\n",
       "    </tr>\n",
       "    <tr>\n",
       "      <th>...</th>\n",
       "      <td>...</td>\n",
       "      <td>...</td>\n",
       "      <td>...</td>\n",
       "      <td>...</td>\n",
       "      <td>...</td>\n",
       "      <td>...</td>\n",
       "      <td>...</td>\n",
       "    </tr>\n",
       "    <tr>\n",
       "      <th>96498</th>\n",
       "      <td>2018040322</td>\n",
       "      <td>2018040322202528</td>\n",
       "      <td>16742</td>\n",
       "      <td>16839</td>\n",
       "      <td>2795</td>\n",
       "      <td>True</td>\n",
       "      <td>6</td>\n",
       "    </tr>\n",
       "    <tr>\n",
       "      <th>96670</th>\n",
       "      <td>2018040322</td>\n",
       "      <td>2018040322202628</td>\n",
       "      <td>26354</td>\n",
       "      <td>26417</td>\n",
       "      <td>2796</td>\n",
       "      <td>True</td>\n",
       "      <td>1</td>\n",
       "    </tr>\n",
       "    <tr>\n",
       "      <th>96811</th>\n",
       "      <td>2018040322</td>\n",
       "      <td>2018040322202729</td>\n",
       "      <td>28433</td>\n",
       "      <td>28528</td>\n",
       "      <td>2798</td>\n",
       "      <td>True</td>\n",
       "      <td>2</td>\n",
       "    </tr>\n",
       "    <tr>\n",
       "      <th>96835</th>\n",
       "      <td>2018040322</td>\n",
       "      <td>2018040322202829</td>\n",
       "      <td>3325</td>\n",
       "      <td>3396</td>\n",
       "      <td>2799</td>\n",
       "      <td>True</td>\n",
       "      <td>1</td>\n",
       "    </tr>\n",
       "    <tr>\n",
       "      <th>96948</th>\n",
       "      <td>2018040322</td>\n",
       "      <td>2018040322202929</td>\n",
       "      <td>4006</td>\n",
       "      <td>4064</td>\n",
       "      <td>2801</td>\n",
       "      <td>True</td>\n",
       "      <td>0</td>\n",
       "    </tr>\n",
       "  </tbody>\n",
       "</table>\n",
       "<p>1744 rows × 7 columns</p>\n",
       "</div>"
      ],
      "text/plain": [
       "                    ID        video_code  start    end  cluster  clean  module\n",
       "bout_index                                                                    \n",
       "22          2017081001  2017081001171128  12244  12325        0   True       3\n",
       "33          2017081001  2017081001171128  17304  17395        1   True       2\n",
       "40          2017081001  2017081001171128  20294  20387        2   True       2\n",
       "126         2017081001  2017081001171228  21398  21486        4   True       2\n",
       "221         2017081001  2017081001171329  24491  24575        5   True       2\n",
       "...                ...               ...    ...    ...      ...    ...     ...\n",
       "96498       2018040322  2018040322202528  16742  16839     2795   True       6\n",
       "96670       2018040322  2018040322202628  26354  26417     2796   True       1\n",
       "96811       2018040322  2018040322202729  28433  28528     2798   True       2\n",
       "96835       2018040322  2018040322202829   3325   3396     2799   True       1\n",
       "96948       2018040322  2018040322202929   4006   4064     2801   True       0\n",
       "\n",
       "[1744 rows x 7 columns]"
      ]
     },
     "execution_count": 12,
     "metadata": {},
     "output_type": "execute_result"
    }
   ],
   "source": [
    "exemplar_md = pd.read_csv(data_path.joinpath(\"exemplars.csv\"), index_col=\"bout_index\", dtype={\"ID\": str, \"video_code\": str})\n",
    "exemplar_md = exemplar_md[exemplar_md[\"clean\"]]  # some exemplars represent \"dirty\" clusters (i.e. not real bouts), so these should be removed\n",
    "exemplar_md"
   ]
  },
  {
   "cell_type": "markdown",
   "id": "8ca5527a-fb9f-4cbc-aa3f-51427b10d210",
   "metadata": {},
   "source": [
    "Import data. This will take a while since csv files are _super_ slow to read!"
   ]
  },
  {
   "cell_type": "code",
   "execution_count": null,
   "id": "96f1a00d-cc50-416d-a9cd-70a1042c32d8",
   "metadata": {},
   "outputs": [
    {
     "name": "stdout",
     "output_type": "stream",
     "text": [
      "Opening 681 csv files...\n",
      "############ 10%\n",
      "############ 20%\n",
      "############ 30%\n",
      "############ 40%\n",
      "############ 50%\n",
      "############ 60%\n",
      "############ 70%\n",
      "#"
     ]
    }
   ],
   "source": [
    "bout_data = BoutData.from_metadata(exemplar_md, data_path.joinpath(\"kinematics\"), tail_only=True)  # for bout mapping we conly want tail kinematics"
   ]
  },
  {
   "cell_type": "markdown",
   "id": "4bcc9d05-adbb-4db3-a2f5-a3967668001f",
   "metadata": {},
   "source": [
    "In our `BoutData` object, the data is stored in the `data` attribute as a multi-indexed DataFrame, and metadata is stored in the `metadata` attribute "
   ]
  },
  {
   "cell_type": "code",
   "execution_count": null,
   "id": "59c1ca61-d6b4-4a5b-ab8d-7823e35500da",
   "metadata": {},
   "outputs": [],
   "source": [
    "type(bout_data)"
   ]
  },
  {
   "cell_type": "code",
   "execution_count": null,
   "id": "15fbbea5-9301-4904-a37f-dab3ea948150",
   "metadata": {},
   "outputs": [],
   "source": [
    "bout_data.data"
   ]
  },
  {
   "cell_type": "code",
   "execution_count": null,
   "id": "eff5c8b8-8b47-462d-ac01-106f39001d59",
   "metadata": {},
   "outputs": [],
   "source": [
    "bout_data.metadata"
   ]
  },
  {
   "cell_type": "markdown",
   "id": "0e1dbca0-a7e2-4c39-b1d1-674839558146",
   "metadata": {},
   "source": [
    "# PCA"
   ]
  },
  {
   "cell_type": "markdown",
   "id": "85c4d4d2-3df9-4260-8a6a-44a6ed89da93",
   "metadata": {},
   "source": [
    "Before mapping bouts into the behavior space, we need to do PCA. We do this using the `sklearn.decomposition.PCA` class. First, we will do this from first principles."
   ]
  },
  {
   "cell_type": "markdown",
   "id": "a50c3cb5-4f05-4385-bee9-7d6b89c2adc3",
   "metadata": {},
   "source": [
    "Before doing PCA, we \"whiten\" the data (i.e. express our varialbes in terms of a z-score). The z-score is how many standard deviations a data point is away from the mean and it is computed by subtracting the mean and dividing by the standard deviation."
   ]
  },
  {
   "cell_type": "code",
   "execution_count": null,
   "id": "9e088d11-920b-4159-8dc9-1277c84817fe",
   "metadata": {},
   "outputs": [],
   "source": [
    "from sklearn.decomposition import PCA"
   ]
  },
  {
   "cell_type": "code",
   "execution_count": null,
   "id": "feea09d4-0ed5-4a30-b808-43299c94585e",
   "metadata": {},
   "outputs": [],
   "source": [
    "mean = bout_data.data.mean(axis=0)\n",
    "std = bout_data.data.std(axis=0)"
   ]
  },
  {
   "cell_type": "code",
   "execution_count": null,
   "id": "3a608a15-081a-4bde-b7c3-3e1624067354",
   "metadata": {},
   "outputs": [],
   "source": [
    "whitened = (bout_data.data - mean) / std\n",
    "whitened.shape"
   ]
  },
  {
   "cell_type": "code",
   "execution_count": null,
   "id": "9823d25f-bdb8-4eb2-b696-6e853c9fedfc",
   "metadata": {},
   "outputs": [],
   "source": [
    "pca = PCA()\n",
    "transformed = pca.fit_transform(whitened)  # should need to use\n",
    "transformed.shape"
   ]
  },
  {
   "cell_type": "markdown",
   "id": "cce71da9-9a5f-4c93-a0ba-ba6ffddcda69",
   "metadata": {},
   "source": [
    "Now that we have fit the PCA model, we can see the explained variance and principal components"
   ]
  },
  {
   "cell_type": "code",
   "execution_count": null,
   "id": "09cd7990-5262-486a-ac56-203b000bf1b4",
   "metadata": {},
   "outputs": [],
   "source": [
    "explained_var = pca.explained_variance_ratio_\n",
    "\n",
    "fig, axes = plt.subplots(1, 2, figsize=(4, 2))\n",
    "\n",
    "axes[0].plot(explained_var)\n",
    "axes[0].set_title(\"Explained variance\")\n",
    "\n",
    "axes[1].plot([0] + list(np.cumsum(explained_var)))\n",
    "axes[1].set_title(\"Cumulative explained variance\")\n",
    "axes[1].set_xlim(0, 10)\n",
    "axes[1].set_ylim(0, 1)\n",
    "\n",
    "plt.tight_layout()"
   ]
  },
  {
   "cell_type": "code",
   "execution_count": null,
   "id": "0c8ab261-89d5-4b96-a090-4adc794405fc",
   "metadata": {},
   "outputs": [],
   "source": [
    "principal_components = pca.components_\n",
    "principal_components.shape"
   ]
  },
  {
   "cell_type": "markdown",
   "id": "c45f9951-8414-4884-ab54-fc94f2ea4c8c",
   "metadata": {},
   "source": [
    "Remember, the principal components are of the whitened data. To compute the shape of the eigenfish, we need to \"unwhiten\" the PCs."
   ]
  },
  {
   "cell_type": "code",
   "execution_count": null,
   "id": "2bb49947-1026-4f0a-b18e-372058694f07",
   "metadata": {},
   "outputs": [],
   "source": [
    "eigenfish = (20 * principal_components * std.values) + mean.values"
   ]
  },
  {
   "cell_type": "markdown",
   "id": "d5c40067-b781-41ab-919a-b8d52c2736c2",
   "metadata": {},
   "source": [
    "Plot first three eigenfish"
   ]
  },
  {
   "cell_type": "code",
   "execution_count": null,
   "id": "bf32c886-fe3f-49e3-a249-7ed8852bb4c5",
   "metadata": {},
   "outputs": [],
   "source": [
    "x = np.arange(0, eigenfish.shape[1])\n",
    "for i in range(3):\n",
    "    plt.plot(x, eigenfish[i])\n",
    "plt.gca().axis(\"equal\")"
   ]
  },
  {
   "cell_type": "markdown",
   "id": "31565173-08c9-427a-a075-46550b5e8109",
   "metadata": {},
   "source": [
    "These look a little funky because we only used a small subset of the data to compute the eigenfish."
   ]
  },
  {
   "cell_type": "markdown",
   "id": "797386b4-e605-4f1a-9830-b930b3db8790",
   "metadata": {},
   "source": [
    "We can do the full PCA with a single line of code if we use the `BoutData` class:"
   ]
  },
  {
   "cell_type": "code",
   "execution_count": null,
   "id": "12364921-c255-4ca4-9476-aacaa3875432",
   "metadata": {},
   "outputs": [],
   "source": [
    "transformed, pca = bout_data.transform(whiten=True)  # whitens the data and projects bouts onto PCs"
   ]
  },
  {
   "cell_type": "code",
   "execution_count": null,
   "id": "49bbb500-a949-4979-850a-21fc5245ed7a",
   "metadata": {},
   "outputs": [],
   "source": [
    "transformed.data"
   ]
  },
  {
   "cell_type": "markdown",
   "id": "6fab062b-266d-4816-ac42-5e3b0a9286c3",
   "metadata": {},
   "source": [
    "Lets plot the bouts as trajectories in PC space!"
   ]
  },
  {
   "cell_type": "code",
   "execution_count": null,
   "id": "36e302fa-04f6-4ec3-923f-80b498ca9e7d",
   "metadata": {},
   "outputs": [],
   "source": [
    "for idx, bout in transformed.iter(values=True):\n",
    "    plt.plot(bout[:, 0], bout[:, 1])"
   ]
  },
  {
   "cell_type": "markdown",
   "id": "e7764b75-7ea0-41e7-a76c-e5f5f9565f58",
   "metadata": {},
   "source": [
    "# DTW"
   ]
  },
  {
   "cell_type": "markdown",
   "id": "6da90452-0347-4244-92d8-66c57a20957f",
   "metadata": {},
   "source": [
    "Next, let's compute the \"distance\" between each pair of bouts using dynamic time warping (DTW)."
   ]
  },
  {
   "cell_type": "markdown",
   "id": "7735f13d-b823-4780-b4c2-dbc0f00ecb91",
   "metadata": {},
   "source": [
    "We will use the `ethomap` library for this."
   ]
  },
  {
   "cell_type": "code",
   "execution_count": null,
   "id": "52b44433-6aae-449b-83fd-d81be56e4c9a",
   "metadata": {},
   "outputs": [],
   "source": [
    "from ethomap import DynamicTimeWarping, pdist_dtw"
   ]
  },
  {
   "cell_type": "code",
   "execution_count": null,
   "id": "c3c9af11-147e-4746-bcf6-a9cec5a38ded",
   "metadata": {
    "tags": []
   },
   "outputs": [],
   "source": [
    "help(DynamicTimeWarping)"
   ]
  },
  {
   "cell_type": "code",
   "execution_count": null,
   "id": "d19abb01-cdd9-4432-bf91-008f4b9c1640",
   "metadata": {
    "tags": []
   },
   "outputs": [],
   "source": [
    "help(pdist_dtw)"
   ]
  },
  {
   "cell_type": "markdown",
   "id": "8e298ba4-1fe9-42a8-adf6-566372203205",
   "metadata": {},
   "source": [
    "First, let's compute the distance between a pair of bouts to see what's happening:"
   ]
  },
  {
   "cell_type": "code",
   "execution_count": null,
   "id": "c253d7c8-ef32-4291-993f-7d83be58d546",
   "metadata": {
    "tags": []
   },
   "outputs": [],
   "source": [
    "bout0 = transformed.get(idxs=(0,)).data.values\n",
    "bout1 = transformed.get(idxs=(0,)).data.values"
   ]
  },
  {
   "cell_type": "markdown",
   "id": "7319d9b3-5e31-4af3-9772-15c02a886847",
   "metadata": {},
   "source": [
    "# Affinity propagation"
   ]
  },
  {
   "cell_type": "markdown",
   "id": "41f6e1aa-98ca-49bf-85cc-008d266e5604",
   "metadata": {},
   "source": [
    "# Isomap"
   ]
  },
  {
   "cell_type": "markdown",
   "id": "679e7d0a-7272-4096-942d-61ee8de4805a",
   "metadata": {},
   "source": [
    "# Sequence analysis"
   ]
  },
  {
   "cell_type": "markdown",
   "id": "3724f503-6f1a-4c74-9afc-9567652b110f",
   "metadata": {},
   "source": [
    "# SVD"
   ]
  },
  {
   "cell_type": "code",
   "execution_count": null,
   "id": "93016973-98f4-469a-88f7-b71c3346187d",
   "metadata": {},
   "outputs": [],
   "source": []
  }
 ],
 "metadata": {
  "kernelspec": {
   "display_name": "behavior_analysis_training",
   "language": "python",
   "name": "behavior_analysis_training"
  },
  "language_info": {
   "codemirror_mode": {
    "name": "ipython",
    "version": 3
   },
   "file_extension": ".py",
   "mimetype": "text/x-python",
   "name": "python",
   "nbconvert_exporter": "python",
   "pygments_lexer": "ipython3",
   "version": "3.9.15"
  }
 },
 "nbformat": 4,
 "nbformat_minor": 5
}
